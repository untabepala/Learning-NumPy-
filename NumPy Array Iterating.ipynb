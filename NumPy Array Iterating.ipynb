{
 "cells": [
  {
   "cell_type": "markdown",
   "id": "2cea5edf",
   "metadata": {},
   "source": [
    "# NumPy Array Iterating"
   ]
  },
  {
   "cell_type": "code",
   "execution_count": 1,
   "id": "61b59d8e",
   "metadata": {},
   "outputs": [],
   "source": [
    "#Iterating means going through elements one by one.\n",
    "#As we deal with multi-dimensional arrays in numpy, we can do this using basic for loop of python.\n",
    "#If we iterate on a 1-D array it will go through each element one by one."
   ]
  },
  {
   "cell_type": "markdown",
   "id": "bb5d9a91",
   "metadata": {},
   "source": [
    "# Iterating Arrays"
   ]
  },
  {
   "cell_type": "code",
   "execution_count": 2,
   "id": "f9b2eb6a",
   "metadata": {},
   "outputs": [],
   "source": [
    "import numpy as np"
   ]
  },
  {
   "cell_type": "code",
   "execution_count": 3,
   "id": "554e2f73",
   "metadata": {},
   "outputs": [
    {
     "name": "stdout",
     "output_type": "stream",
     "text": [
      "1\n",
      "2\n",
      "3\n"
     ]
    }
   ],
   "source": [
    "arr=np.array([1,2,3])\n",
    "for x in arr:\n",
    "    print(x)"
   ]
  },
  {
   "cell_type": "markdown",
   "id": "2cb6e66a",
   "metadata": {},
   "source": [
    "# Iterating 2-D Arrays"
   ]
  },
  {
   "cell_type": "code",
   "execution_count": 4,
   "id": "8b3b1313",
   "metadata": {},
   "outputs": [
    {
     "name": "stdout",
     "output_type": "stream",
     "text": [
      "[1 2 3]\n",
      "[4 5 6]\n"
     ]
    }
   ],
   "source": [
    "arr = np.array([[1, 2, 3], [4, 5, 6]])\n",
    "for x in arr:\n",
    "    print(x)"
   ]
  },
  {
   "cell_type": "code",
   "execution_count": 5,
   "id": "52a1013d",
   "metadata": {},
   "outputs": [
    {
     "name": "stdout",
     "output_type": "stream",
     "text": [
      "1\n",
      "2\n",
      "3\n",
      "4\n",
      "5\n",
      "6\n"
     ]
    }
   ],
   "source": [
    "for x in arr:\n",
    "    for y in x:\n",
    "        print(y)"
   ]
  },
  {
   "cell_type": "markdown",
   "id": "a3d4b5a3",
   "metadata": {},
   "source": [
    "# Iterating 3-D Arrays"
   ]
  },
  {
   "cell_type": "code",
   "execution_count": 6,
   "id": "64197886",
   "metadata": {},
   "outputs": [
    {
     "name": "stdout",
     "output_type": "stream",
     "text": [
      "[[1 2 3]\n",
      " [4 5 6]]\n",
      "[[ 7  8  9]\n",
      " [10 11 12]]\n"
     ]
    }
   ],
   "source": [
    "arr=np.array([[[1,2,3],[4,5,6]],[[7,8,9],[10,11,12]]])\n",
    "\n",
    "for x in arr:\n",
    "   print(x) "
   ]
  },
  {
   "cell_type": "code",
   "execution_count": 7,
   "id": "894f3d6d",
   "metadata": {},
   "outputs": [
    {
     "name": "stdout",
     "output_type": "stream",
     "text": [
      "1\n",
      "2\n",
      "3\n",
      "4\n",
      "5\n",
      "6\n",
      "7\n",
      "8\n",
      "9\n",
      "10\n",
      "11\n",
      "12\n"
     ]
    }
   ],
   "source": [
    "for x in arr:\n",
    "    for y in x:\n",
    "        for z in y:\n",
    "            print(z)"
   ]
  },
  {
   "cell_type": "markdown",
   "id": "9ed976f2",
   "metadata": {},
   "source": [
    "# Iterating Arrays Using nditer()"
   ]
  },
  {
   "cell_type": "code",
   "execution_count": 8,
   "id": "8f59c2de",
   "metadata": {},
   "outputs": [],
   "source": [
    "#The function nditer() is a helping function that can be used \n",
    "#from very basic to very advanced iterations. It solves some basic \n",
    "#issues which we face in iteration, lets go through it with examples."
   ]
  },
  {
   "cell_type": "markdown",
   "id": "dfdb3bad",
   "metadata": {},
   "source": [
    "# Iterating on Each Scalar Element"
   ]
  },
  {
   "cell_type": "code",
   "execution_count": 9,
   "id": "36fe5904",
   "metadata": {},
   "outputs": [
    {
     "name": "stdout",
     "output_type": "stream",
     "text": [
      "1\n",
      "2\n",
      "3\n",
      "4\n",
      "5\n",
      "6\n",
      "7\n",
      "8\n"
     ]
    }
   ],
   "source": [
    "arr = np.array([[[1, 2], [3, 4]], [[5, 6], [7, 8]]])\n",
    "for x in np.nditer(arr):\n",
    "    print(x)"
   ]
  },
  {
   "cell_type": "markdown",
   "id": "1bad4023",
   "metadata": {},
   "source": [
    "# Iterating Array With Different Data Types"
   ]
  },
  {
   "cell_type": "code",
   "execution_count": 10,
   "id": "40865a66",
   "metadata": {},
   "outputs": [
    {
     "name": "stdout",
     "output_type": "stream",
     "text": [
      "b'1'\n",
      "b'2'\n",
      "b'3'\n"
     ]
    }
   ],
   "source": [
    "arr=np.array([1,2,3])\n",
    "\n",
    "for x in np.nditer(arr, flags=['buffered'], op_dtypes=['S']):\n",
    "    print(x)"
   ]
  },
  {
   "cell_type": "markdown",
   "id": "e48d513a",
   "metadata": {},
   "source": [
    "# Iterating With Different Step Size"
   ]
  },
  {
   "cell_type": "code",
   "execution_count": 11,
   "id": "c9449b26",
   "metadata": {},
   "outputs": [
    {
     "name": "stdout",
     "output_type": "stream",
     "text": [
      "1\n",
      "3\n",
      "5\n",
      "7\n"
     ]
    }
   ],
   "source": [
    "arr = np.array([[1, 2, 3, 4], [5, 6, 7, 8]])\n",
    "\n",
    "for x in np.nditer(arr[:, ::2]):\n",
    "    print(x)"
   ]
  },
  {
   "cell_type": "markdown",
   "id": "19bfe9df",
   "metadata": {},
   "source": [
    "# Enumerated Iteration Using ndenumerate()"
   ]
  },
  {
   "cell_type": "code",
   "execution_count": 16,
   "id": "d0e0d239",
   "metadata": {},
   "outputs": [
    {
     "name": "stdout",
     "output_type": "stream",
     "text": [
      "(0,) 1\n",
      "(1,) 2\n",
      "(2,) 3\n"
     ]
    }
   ],
   "source": [
    "#Enumeration means mentioning sequence number of somethings one by one.\n",
    "arr=np.array([1,2,3])\n",
    "for idx, x in np.ndenumerate(arr):\n",
    "    print(idx,x)"
   ]
  },
  {
   "cell_type": "code",
   "execution_count": null,
   "id": "10603163",
   "metadata": {},
   "outputs": [],
   "source": []
  }
 ],
 "metadata": {
  "kernelspec": {
   "display_name": "Python 3 (ipykernel)",
   "language": "python",
   "name": "python3"
  },
  "language_info": {
   "codemirror_mode": {
    "name": "ipython",
    "version": 3
   },
   "file_extension": ".py",
   "mimetype": "text/x-python",
   "name": "python",
   "nbconvert_exporter": "python",
   "pygments_lexer": "ipython3",
   "version": "3.11.5"
  }
 },
 "nbformat": 4,
 "nbformat_minor": 5
}
